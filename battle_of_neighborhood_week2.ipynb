{
  "nbformat": 4,
  "nbformat_minor": 0,
  "metadata": {
    "colab": {
      "name": "battle of neighborhood week2.ipynb",
      "provenance": [],
      "authorship_tag": "ABX9TyNJwjubgz+xJsxPAUaFhXKK",
      "include_colab_link": true
    },
    "kernelspec": {
      "name": "python3",
      "display_name": "Python 3"
    }
  },
  "cells": [
    {
      "cell_type": "markdown",
      "metadata": {
        "id": "view-in-github",
        "colab_type": "text"
      },
      "source": [
        "<a href=\"https://colab.research.google.com/github/adilsonsc/Coursera_Capstone/blob/master/battle_of_neighborhood_week2.ipynb\" target=\"_parent\"><img src=\"https://colab.research.google.com/assets/colab-badge.svg\" alt=\"Open In Colab\"/></a>"
      ]
    },
    {
      "cell_type": "code",
      "metadata": {
        "id": "0wvpYh-yXan3",
        "colab_type": "code",
        "colab": {}
      },
      "source": [
        ""
      ],
      "execution_count": 0,
      "outputs": []
    },
    {
      "cell_type": "markdown",
      "metadata": {
        "id": "hFEe4W45WUnJ",
        "colab_type": "text"
      },
      "source": [
        "# **Loading libraries**"
      ]
    },
    {
      "cell_type": "code",
      "metadata": {
        "id": "I9lUl_cwvJLh",
        "colab_type": "code",
        "outputId": "df3721e4-be6a-4201-f381-8dcff8ed4f68",
        "colab": {
          "base_uri": "https://localhost:8080/",
          "height": 51
        }
      },
      "source": [
        "import numpy as np # library to handle data in a vectorized manner\n",
        "\n",
        "import pandas as pd # library for data analsysis\n",
        "pd.set_option('display.max_columns', None)\n",
        "pd.set_option('display.max_rows', None)\n",
        "\n",
        "import json # library to handle JSON files\n",
        "\n",
        "#!conda install -c conda-forge geopy --yes # uncomment this line if you haven't completed the Foursquare API lab\n",
        "from geopy.geocoders import Nominatim # convert an address into latitude and longitude values\n",
        "\n",
        "import requests # library to handle requests\n",
        "from pandas.io.json import json_normalize # tranform JSON file into a pandas dataframe\n",
        "\n",
        "# Matplotlib and associated plotting modules\n",
        "import matplotlib.cm as cm\n",
        "import matplotlib.colors as colors\n",
        "\n",
        "# import k-means from clustering stage\n",
        "from sklearn.cluster import KMeans\n",
        "\n",
        "#!conda install -c conda-forge folium=0.5.0 --yes # uncomment this line if you haven't completed the Foursquare API lab\n",
        "import folium # map rendering library\n",
        "\n",
        "print('Libraries imported.')"
      ],
      "execution_count": 40,
      "outputs": [
        {
          "output_type": "stream",
          "text": [
            "ERROR! Session/line number was not unique in database. History logging moved to new session 59\n",
            "Libraries imported.\n"
          ],
          "name": "stdout"
        }
      ]
    },
    {
      "cell_type": "markdown",
      "metadata": {
        "id": "jnMejtKrYEec",
        "colab_type": "text"
      },
      "source": [
        "# **Getting the inicial location coodinates**"
      ]
    },
    {
      "cell_type": "code",
      "metadata": {
        "id": "tQYEuwQHqCjs",
        "colab_type": "code",
        "outputId": "09001e2a-c986-447f-dbd7-d29321f26912",
        "colab": {
          "base_uri": "https://localhost:8080/",
          "height": 88
        }
      },
      "source": [
        "#\n",
        "address = 'SQN 109, Brasilia'\n",
        "\n",
        "geolocator = Nominatim()\n",
        "location = geolocator.geocode(address)\n",
        "latitude = location.latitude\n",
        "longitude = location.longitude\n",
        "print('The geograpical coordinate of Brasilia home are {}, {}.'.format(latitude, longitude))"
      ],
      "execution_count": 41,
      "outputs": [
        {
          "output_type": "stream",
          "text": [
            "/usr/local/lib/python3.6/dist-packages/geopy/geocoders/osm.py:143: UserWarning: Using Nominatim with the default \"geopy/1.17.0\" `user_agent` is strongly discouraged, as it violates Nominatim's ToS https://operations.osmfoundation.org/policies/nominatim/ and may possibly cause 403 and 429 HTTP errors. Please specify a custom `user_agent` with `Nominatim(user_agent=\"my-application\")` or by overriding the default `user_agent`: `geopy.geocoders.options.default_user_agent = \"my-application\"`. In geopy 2.0 this will become an exception.\n",
            "  UserWarning\n"
          ],
          "name": "stderr"
        },
        {
          "output_type": "stream",
          "text": [
            "The geograpical coordinate of Brasilia home are -15.7604133, -47.8868663.\n"
          ],
          "name": "stdout"
        }
      ]
    },
    {
      "cell_type": "code",
      "metadata": {
        "id": "XY6PFwBpvIWQ",
        "colab_type": "code",
        "colab": {}
      },
      "source": [
        ""
      ],
      "execution_count": 0,
      "outputs": []
    },
    {
      "cell_type": "code",
      "metadata": {
        "id": "mrSV5wJmqKnE",
        "colab_type": "code",
        "colab": {}
      },
      "source": [
        "neighborhood_latitude=-15.7663427\n",
        "neighborhood_longitude=-47.8848694"
      ],
      "execution_count": 0,
      "outputs": []
    },
    {
      "cell_type": "markdown",
      "metadata": {
        "id": "bqkFY8Kmseha",
        "colab_type": "text"
      },
      "source": [
        "## **Foursquare API and login infomations**"
      ]
    },
    {
      "cell_type": "code",
      "metadata": {
        "id": "ulyx5J2ZqyKv",
        "colab_type": "code",
        "outputId": "b9c337da-2e68-4816-c167-b306a5728767",
        "colab": {
          "base_uri": "https://localhost:8080/",
          "height": 68
        }
      },
      "source": [
        "CLIENT_ID = 'I0E42DTBZAL3CE1INEJFYKTHLC1VFPCYOUFWSURMSQX3XYRP' # your Foursquare ID\n",
        "CLIENT_SECRET = 'KMGDLJHW4IPBGQEMQDOFXBURDSN0UO22L1DS3O4WDFQGRUZ2' # your Foursquare Secret\n",
        "VERSION = '20200327'\n",
        "LIMIT = 30\n",
        "print('Your credentails:')\n",
        "print('CLIENT_ID: ' + CLIENT_ID)\n",
        "print('CLIENT_SECRET:' + CLIENT_SECRET)"
      ],
      "execution_count": 43,
      "outputs": [
        {
          "output_type": "stream",
          "text": [
            "Your credentails:\n",
            "CLIENT_ID: I0E42DTBZAL3CE1INEJFYKTHLC1VFPCYOUFWSURMSQX3XYRP\n",
            "CLIENT_SECRET:KMGDLJHW4IPBGQEMQDOFXBURDSN0UO22L1DS3O4WDFQGRUZ2\n"
          ],
          "name": "stdout"
        }
      ]
    },
    {
      "cell_type": "code",
      "metadata": {
        "id": "FdpDHUZ2qyM6",
        "colab_type": "code",
        "colab": {}
      },
      "source": [
        ""
      ],
      "execution_count": 0,
      "outputs": []
    },
    {
      "cell_type": "code",
      "metadata": {
        "id": "36Y9wBNrqyPN",
        "colab_type": "code",
        "colab": {}
      },
      "source": [
        ""
      ],
      "execution_count": 0,
      "outputs": []
    },
    {
      "cell_type": "code",
      "metadata": {
        "id": "rS9zuW5sqrau",
        "colab_type": "code",
        "outputId": "4ecbeb3a-f66e-4aa0-fcd0-1584dc1f4d8f",
        "colab": {
          "base_uri": "https://localhost:8080/",
          "height": 54
        }
      },
      "source": [
        "LIMIT = 500 # limit of number of venues returned by Foursquare API\n",
        "radius = 1000 # define radius\n",
        "\n",
        "# create URL\n",
        "url = 'https://api.foursquare.com/v2/venues/explore?&client_id={}&client_secret={}&v={}&ll={},{}&radius={}&limit={}'.format(\n",
        "    CLIENT_ID, \n",
        "    CLIENT_SECRET, \n",
        "    VERSION, \n",
        "    neighborhood_latitude, \n",
        "    neighborhood_longitude, \n",
        "    radius, \n",
        "    LIMIT)\n",
        "url # display URL"
      ],
      "execution_count": 45,
      "outputs": [
        {
          "output_type": "execute_result",
          "data": {
            "text/plain": [
              "'https://api.foursquare.com/v2/venues/explore?&client_id=I0E42DTBZAL3CE1INEJFYKTHLC1VFPCYOUFWSURMSQX3XYRP&client_secret=KMGDLJHW4IPBGQEMQDOFXBURDSN0UO22L1DS3O4WDFQGRUZ2&v=20200327&ll=-15.7663427,-47.8848694&radius=1000&limit=500'"
            ]
          },
          "metadata": {
            "tags": []
          },
          "execution_count": 45
        }
      ]
    },
    {
      "cell_type": "code",
      "metadata": {
        "id": "xTNhF4naiKx9",
        "colab_type": "code",
        "colab": {}
      },
      "source": [
        ""
      ],
      "execution_count": 0,
      "outputs": []
    },
    {
      "cell_type": "code",
      "metadata": {
        "id": "EeRj9Is9iNxY",
        "colab_type": "code",
        "colab": {}
      },
      "source": [
        ""
      ],
      "execution_count": 0,
      "outputs": []
    },
    {
      "cell_type": "code",
      "metadata": {
        "id": "5oe59d7zt_Bm",
        "colab_type": "code",
        "colab": {}
      },
      "source": [
        "results = requests.get(url).json()\n",
        "#results"
      ],
      "execution_count": 0,
      "outputs": []
    },
    {
      "cell_type": "code",
      "metadata": {
        "id": "hoHqrRzguDnT",
        "colab_type": "code",
        "colab": {}
      },
      "source": [
        "def get_category_type(row):\n",
        "    try:\n",
        "        categories_list = row['categories']\n",
        "    except:\n",
        "        categories_list = row['venue.categories']\n",
        "        \n",
        "    if len(categories_list) == 0:\n",
        "        return None\n",
        "    else:\n",
        "        return categories_list[0]['name']"
      ],
      "execution_count": 0,
      "outputs": []
    },
    {
      "cell_type": "code",
      "metadata": {
        "id": "g3GmRRdHuEQV",
        "colab_type": "code",
        "outputId": "ae37b04a-414b-4303-a125-2561ce764974",
        "colab": {
          "base_uri": "https://localhost:8080/",
          "height": 359
        }
      },
      "source": [
        "venues = results['response']['groups'][0]['items']\n",
        "    \n",
        "SGnearby_venues = json_normalize(venues) # flatten JSON\n",
        "\n",
        "# filter columns\n",
        "filtered_columns = ['venue.name', 'venue.categories', 'venue.location.lat', 'venue.location.lng']\n",
        "SGnearby_venues =SGnearby_venues.loc[:, filtered_columns]\n",
        "\n",
        "# filter the category for each row\n",
        "SGnearby_venues['venue.categories'] = SGnearby_venues.apply(get_category_type, axis=1)\n",
        "\n",
        "# clean columns\n",
        "SGnearby_venues.columns = [col.split(\".\")[-1] for col in SGnearby_venues.columns]\n",
        "\n",
        "SGnearby_venues.head(10)"
      ],
      "execution_count": 48,
      "outputs": [
        {
          "output_type": "execute_result",
          "data": {
            "text/html": [
              "<div>\n",
              "<style scoped>\n",
              "    .dataframe tbody tr th:only-of-type {\n",
              "        vertical-align: middle;\n",
              "    }\n",
              "\n",
              "    .dataframe tbody tr th {\n",
              "        vertical-align: top;\n",
              "    }\n",
              "\n",
              "    .dataframe thead th {\n",
              "        text-align: right;\n",
              "    }\n",
              "</style>\n",
              "<table border=\"1\" class=\"dataframe\">\n",
              "  <thead>\n",
              "    <tr style=\"text-align: right;\">\n",
              "      <th></th>\n",
              "      <th>name</th>\n",
              "      <th>categories</th>\n",
              "      <th>lat</th>\n",
              "      <th>lng</th>\n",
              "    </tr>\n",
              "  </thead>\n",
              "  <tbody>\n",
              "    <tr>\n",
              "      <th>0</th>\n",
              "      <td>Belgrado Burger</td>\n",
              "      <td>Burger Joint</td>\n",
              "      <td>-15.765269</td>\n",
              "      <td>-47.886073</td>\n",
              "    </tr>\n",
              "    <tr>\n",
              "      <th>1</th>\n",
              "      <td>Beirute</td>\n",
              "      <td>Bar</td>\n",
              "      <td>-15.765288</td>\n",
              "      <td>-47.886226</td>\n",
              "    </tr>\n",
              "    <tr>\n",
              "      <th>2</th>\n",
              "      <td>Sabor Glacê</td>\n",
              "      <td>Dessert Shop</td>\n",
              "      <td>-15.765050</td>\n",
              "      <td>-47.886070</td>\n",
              "    </tr>\n",
              "    <tr>\n",
              "      <th>3</th>\n",
              "      <td>Pedacinho Pizzas</td>\n",
              "      <td>Pizza Place</td>\n",
              "      <td>-15.764996</td>\n",
              "      <td>-47.885723</td>\n",
              "    </tr>\n",
              "    <tr>\n",
              "      <th>4</th>\n",
              "      <td>Ernesto Cafés Especiais</td>\n",
              "      <td>Café</td>\n",
              "      <td>-15.764533</td>\n",
              "      <td>-47.885339</td>\n",
              "    </tr>\n",
              "    <tr>\n",
              "      <th>5</th>\n",
              "      <td>Oba Hortifruti</td>\n",
              "      <td>Fruit &amp; Vegetable Store</td>\n",
              "      <td>-15.768837</td>\n",
              "      <td>-47.887648</td>\n",
              "    </tr>\n",
              "    <tr>\n",
              "      <th>6</th>\n",
              "      <td>Feitiço Mineiro</td>\n",
              "      <td>Mineiro Restaurant</td>\n",
              "      <td>-15.768755</td>\n",
              "      <td>-47.887004</td>\n",
              "    </tr>\n",
              "    <tr>\n",
              "      <th>7</th>\n",
              "      <td>Santo Frango</td>\n",
              "      <td>Brazilian Restaurant</td>\n",
              "      <td>-15.769807</td>\n",
              "      <td>-47.888565</td>\n",
              "    </tr>\n",
              "    <tr>\n",
              "      <th>8</th>\n",
              "      <td>Dulce Patagonia</td>\n",
              "      <td>Café</td>\n",
              "      <td>-15.762403</td>\n",
              "      <td>-47.888881</td>\n",
              "    </tr>\n",
              "    <tr>\n",
              "      <th>9</th>\n",
              "      <td>Komboleria</td>\n",
              "      <td>Gluten-free Restaurant</td>\n",
              "      <td>-15.770808</td>\n",
              "      <td>-47.884292</td>\n",
              "    </tr>\n",
              "  </tbody>\n",
              "</table>\n",
              "</div>"
            ],
            "text/plain": [
              "                      name               categories        lat        lng\n",
              "0          Belgrado Burger             Burger Joint -15.765269 -47.886073\n",
              "1                  Beirute                      Bar -15.765288 -47.886226\n",
              "2              Sabor Glacê             Dessert Shop -15.765050 -47.886070\n",
              "3         Pedacinho Pizzas              Pizza Place -15.764996 -47.885723\n",
              "4  Ernesto Cafés Especiais                     Café -15.764533 -47.885339\n",
              "5           Oba Hortifruti  Fruit & Vegetable Store -15.768837 -47.887648\n",
              "6          Feitiço Mineiro       Mineiro Restaurant -15.768755 -47.887004\n",
              "7             Santo Frango     Brazilian Restaurant -15.769807 -47.888565\n",
              "8          Dulce Patagonia                     Café -15.762403 -47.888881\n",
              "9               Komboleria   Gluten-free Restaurant -15.770808 -47.884292"
            ]
          },
          "metadata": {
            "tags": []
          },
          "execution_count": 48
        }
      ]
    },
    {
      "cell_type": "markdown",
      "metadata": {
        "id": "TKiJeZrvuP-z",
        "colab_type": "text"
      },
      "source": [
        "## **Map of Brasilia with venues near the place of reference, SQN 109**"
      ]
    },
    {
      "cell_type": "code",
      "metadata": {
        "id": "At8A-I49uaFY",
        "colab_type": "code",
        "outputId": "86778689-2158-4ab4-af41-8abd91d22846",
        "colab": {
          "base_uri": "https://localhost:8080/",
          "height": 1000
        }
      },
      "source": [
        "# create map of Brasilia  using latitude and longitude values\n",
        "map_sg = folium.Map(location=[latitude, longitude], zoom_start=20)\n",
        "\n",
        "# add markers to map\n",
        "for lat, lng, label in zip(SGnearby_venues['lat'], SGnearby_venues['lng'], SGnearby_venues['name']):\n",
        "    label = folium.Popup(label, parse_html=True)\n",
        "    folium.RegularPolygonMarker(\n",
        "        [lat, lng],\n",
        "        number_of_sides=4,\n",
        "        radius=10,\n",
        "        popup=label,\n",
        "        color='blue',\n",
        "        fill_color='#0f0f0f',\n",
        "        fill_opacity=0.7,\n",
        "    ).add_to(map_sg)  \n",
        "    \n",
        "map_sg\n"
      ],
      "execution_count": 52,
      "outputs": [
        {
          "output_type": "execute_result",
          "data": {
            "text/html": [
              "<div style=\"width:100%;\"><div style=\"position:relative;width:100%;height:0;padding-bottom:60%;\"><iframe src=\"about:blank\" style=\"position:absolute;width:100%;height:100%;left:0;top:0;border:none !important;\" data-html=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 onload=\"this.contentDocument.open();this.contentDocument.write(atob(this.getAttribute('data-html')));this.contentDocument.close();\" allowfullscreen webkitallowfullscreen mozallowfullscreen></iframe></div></div>"
            ],
            "text/plain": [
              "<folium.folium.Map at 0x7f239a6c9860>"
            ]
          },
          "metadata": {
            "tags": []
          },
          "execution_count": 52
        }
      ]
    },
    {
      "cell_type": "code",
      "metadata": {
        "id": "5to7S9dZuwO9",
        "colab_type": "code",
        "colab": {}
      },
      "source": [
        ""
      ],
      "execution_count": 0,
      "outputs": []
    },
    {
      "cell_type": "code",
      "metadata": {
        "id": "WfHsmOF-uwRf",
        "colab_type": "code",
        "colab": {}
      },
      "source": [
        ""
      ],
      "execution_count": 0,
      "outputs": []
    },
    {
      "cell_type": "markdown",
      "metadata": {
        "colab_type": "text",
        "id": "hl1BAMvbaN7b"
      },
      "source": [
        "# **Getting the coodinates of the new location**"
      ]
    },
    {
      "cell_type": "code",
      "metadata": {
        "colab_type": "code",
        "outputId": "2c0b7b3f-2bda-4ff1-bd2f-2a0fd78c6608",
        "id": "EgAELmXjaN7h",
        "colab": {
          "base_uri": "https://localhost:8080/",
          "height": 88
        }
      },
      "source": [
        "\n",
        "address2 = 'SQNW 307, Brasilia'\n",
        "\n",
        "geolocator = Nominatim()\n",
        "location = geolocator.geocode(address2)\n",
        "latitude = location.latitude\n",
        "longitude = location.longitude\n",
        "print('The geograpical coordinate of SQNW 307 are {}, {}.'.format(latitude, longitude))"
      ],
      "execution_count": 59,
      "outputs": [
        {
          "output_type": "stream",
          "text": [
            "/usr/local/lib/python3.6/dist-packages/geopy/geocoders/osm.py:143: UserWarning: Using Nominatim with the default \"geopy/1.17.0\" `user_agent` is strongly discouraged, as it violates Nominatim's ToS https://operations.osmfoundation.org/policies/nominatim/ and may possibly cause 403 and 429 HTTP errors. Please specify a custom `user_agent` with `Nominatim(user_agent=\"my-application\")` or by overriding the default `user_agent`: `geopy.geocoders.options.default_user_agent = \"my-application\"`. In geopy 2.0 this will become an exception.\n",
            "  UserWarning\n"
          ],
          "name": "stderr"
        },
        {
          "output_type": "stream",
          "text": [
            "The geograpical coordinate of SQNW 307 are -15.7526112, -47.9118879.\n"
          ],
          "name": "stdout"
        }
      ]
    },
    {
      "cell_type": "code",
      "metadata": {
        "colab_type": "code",
        "id": "CUsdn0cTaN7m",
        "colab": {}
      },
      "source": [
        ""
      ],
      "execution_count": 0,
      "outputs": []
    },
    {
      "cell_type": "code",
      "metadata": {
        "colab_type": "code",
        "id": "rPV9WlRbaN7p",
        "colab": {}
      },
      "source": [
        "neighborhood_latitude2=-15.7526112\n",
        "neighborhood_longitude2=-47.9118879"
      ],
      "execution_count": 0,
      "outputs": []
    },
    {
      "cell_type": "markdown",
      "metadata": {
        "colab_type": "text",
        "id": "N3oznxbNaN7r"
      },
      "source": [
        "## **Foursquare API and login infomations**"
      ]
    },
    {
      "cell_type": "code",
      "metadata": {
        "colab_type": "code",
        "outputId": "3d2a6439-0429-494e-a82f-b6ffce004ecb",
        "id": "X9qqKcCraN7s",
        "colab": {
          "base_uri": "https://localhost:8080/",
          "height": 68
        }
      },
      "source": [
        "CLIENT_ID = 'I0E42DTBZAL3CE1INEJFYKTHLC1VFPCYOUFWSURMSQX3XYRP' # your Foursquare ID\n",
        "CLIENT_SECRET = 'KMGDLJHW4IPBGQEMQDOFXBURDSN0UO22L1DS3O4WDFQGRUZ2' # your Foursquare Secret\n",
        "VERSION = '20200329'\n",
        "LIMIT = 30\n",
        "print('Your credentails:')\n",
        "print('CLIENT_ID: ' + CLIENT_ID)\n",
        "print('CLIENT_SECRET:' + CLIENT_SECRET)"
      ],
      "execution_count": 61,
      "outputs": [
        {
          "output_type": "stream",
          "text": [
            "Your credentails:\n",
            "CLIENT_ID: I0E42DTBZAL3CE1INEJFYKTHLC1VFPCYOUFWSURMSQX3XYRP\n",
            "CLIENT_SECRET:KMGDLJHW4IPBGQEMQDOFXBURDSN0UO22L1DS3O4WDFQGRUZ2\n"
          ],
          "name": "stdout"
        }
      ]
    },
    {
      "cell_type": "code",
      "metadata": {
        "colab_type": "code",
        "id": "p29ajLhraN7u",
        "colab": {}
      },
      "source": [
        ""
      ],
      "execution_count": 0,
      "outputs": []
    },
    {
      "cell_type": "code",
      "metadata": {
        "colab_type": "code",
        "id": "scA6Y136aN7w",
        "colab": {}
      },
      "source": [
        ""
      ],
      "execution_count": 0,
      "outputs": []
    },
    {
      "cell_type": "code",
      "metadata": {
        "colab_type": "code",
        "outputId": "7e08402f-2299-4d5b-96c9-c49daf0dcd8c",
        "id": "64HQTSc0aN7z",
        "colab": {
          "base_uri": "https://localhost:8080/",
          "height": 54
        }
      },
      "source": [
        "LIMIT = 500 # limit of number of venues returned by Foursquare API\n",
        "radius = 1000 # define radius\n",
        "\n",
        "# create URL\n",
        "url2 = 'https://api.foursquare.com/v2/venues/explore?&client_id={}&client_secret={}&v={}&ll={},{}&radius={}&limit={}'.format(\n",
        "    CLIENT_ID, \n",
        "    CLIENT_SECRET, \n",
        "    VERSION, \n",
        "    neighborhood_latitude2, \n",
        "    neighborhood_longitude2, \n",
        "    radius, \n",
        "    LIMIT)\n",
        "url # display URL"
      ],
      "execution_count": 63,
      "outputs": [
        {
          "output_type": "execute_result",
          "data": {
            "text/plain": [
              "'https://api.foursquare.com/v2/venues/explore?&client_id=I0E42DTBZAL3CE1INEJFYKTHLC1VFPCYOUFWSURMSQX3XYRP&client_secret=KMGDLJHW4IPBGQEMQDOFXBURDSN0UO22L1DS3O4WDFQGRUZ2&v=20200327&ll=-15.7663427,-47.8848694&radius=1000&limit=500'"
            ]
          },
          "metadata": {
            "tags": []
          },
          "execution_count": 63
        }
      ]
    },
    {
      "cell_type": "code",
      "metadata": {
        "colab_type": "code",
        "id": "HE9Qmj6MaN72",
        "colab": {}
      },
      "source": [
        "results = requests.get(url2).json()\n",
        "#results"
      ],
      "execution_count": 0,
      "outputs": []
    },
    {
      "cell_type": "code",
      "metadata": {
        "colab_type": "code",
        "id": "HnlpbKYDaN74",
        "colab": {}
      },
      "source": [
        "def get_category_type(row):\n",
        "    try:\n",
        "        categories_list = row['categories']\n",
        "    except:\n",
        "        categories_list = row['venue.categories']\n",
        "        \n",
        "    if len(categories_list) == 0:\n",
        "        return None\n",
        "    else:\n",
        "        return categories_list[0]['name']"
      ],
      "execution_count": 0,
      "outputs": []
    },
    {
      "cell_type": "code",
      "metadata": {
        "colab_type": "code",
        "outputId": "3b9313e1-6373-4844-9e89-44253f0bd28a",
        "id": "5JGhElgqaN77",
        "colab": {
          "base_uri": "https://localhost:8080/",
          "height": 297
        }
      },
      "source": [
        "venues = results['response']['groups'][0]['items']\n",
        "    \n",
        "SGnearby_venues = json_normalize(venues) # flatten JSON\n",
        "\n",
        "# filter columns\n",
        "filtered_columns = ['venue.name', 'venue.categories', 'venue.location.lat', 'venue.location.lng']\n",
        "SGnearby_venues =SGnearby_venues.loc[:, filtered_columns]\n",
        "\n",
        "# filter the category for each row\n",
        "SGnearby_venues['venue.categories'] = SGnearby_venues.apply(get_category_type, axis=1)\n",
        "\n",
        "# clean columns\n",
        "SGnearby_venues.columns = [col.split(\".\")[-1] for col in SGnearby_venues.columns]\n",
        "\n",
        "SGnearby_venues.head(10)"
      ],
      "execution_count": 66,
      "outputs": [
        {
          "output_type": "execute_result",
          "data": {
            "text/html": [
              "<div>\n",
              "<style scoped>\n",
              "    .dataframe tbody tr th:only-of-type {\n",
              "        vertical-align: middle;\n",
              "    }\n",
              "\n",
              "    .dataframe tbody tr th {\n",
              "        vertical-align: top;\n",
              "    }\n",
              "\n",
              "    .dataframe thead th {\n",
              "        text-align: right;\n",
              "    }\n",
              "</style>\n",
              "<table border=\"1\" class=\"dataframe\">\n",
              "  <thead>\n",
              "    <tr style=\"text-align: right;\">\n",
              "      <th></th>\n",
              "      <th>name</th>\n",
              "      <th>categories</th>\n",
              "      <th>lat</th>\n",
              "      <th>lng</th>\n",
              "    </tr>\n",
              "  </thead>\n",
              "  <tbody>\n",
              "    <tr>\n",
              "      <th>0</th>\n",
              "      <td>Food Trucks Noroeste</td>\n",
              "      <td>Food Truck</td>\n",
              "      <td>-15.751135</td>\n",
              "      <td>-47.910346</td>\n",
              "    </tr>\n",
              "    <tr>\n",
              "      <th>1</th>\n",
              "      <td>Buongiorno</td>\n",
              "      <td>Bakery</td>\n",
              "      <td>-15.744515</td>\n",
              "      <td>-47.914302</td>\n",
              "    </tr>\n",
              "    <tr>\n",
              "      <th>2</th>\n",
              "      <td>Praça 108 Noroeste</td>\n",
              "      <td>Plaza</td>\n",
              "      <td>-15.751197</td>\n",
              "      <td>-47.910191</td>\n",
              "    </tr>\n",
              "    <tr>\n",
              "      <th>3</th>\n",
              "      <td>Academia</td>\n",
              "      <td>Gym / Fitness Center</td>\n",
              "      <td>-15.751007</td>\n",
              "      <td>-47.910370</td>\n",
              "    </tr>\n",
              "    <tr>\n",
              "      <th>4</th>\n",
              "      <td>Norusca Arena</td>\n",
              "      <td>Soccer Field</td>\n",
              "      <td>-15.752972</td>\n",
              "      <td>-47.909631</td>\n",
              "    </tr>\n",
              "    <tr>\n",
              "      <th>5</th>\n",
              "      <td>Academia Via Prestige</td>\n",
              "      <td>Gym / Fitness Center</td>\n",
              "      <td>-15.753208</td>\n",
              "      <td>-47.909248</td>\n",
              "    </tr>\n",
              "    <tr>\n",
              "      <th>6</th>\n",
              "      <td>Fitness Real Evolution</td>\n",
              "      <td>Gym / Fitness Center</td>\n",
              "      <td>-15.747930</td>\n",
              "      <td>-47.910376</td>\n",
              "    </tr>\n",
              "    <tr>\n",
              "      <th>7</th>\n",
              "      <td>Academia Fitness</td>\n",
              "      <td>Gymnastics Gym</td>\n",
              "      <td>-15.744920</td>\n",
              "      <td>-47.912181</td>\n",
              "    </tr>\n",
              "  </tbody>\n",
              "</table>\n",
              "</div>"
            ],
            "text/plain": [
              "                     name            categories        lat        lng\n",
              "0    Food Trucks Noroeste            Food Truck -15.751135 -47.910346\n",
              "1              Buongiorno                Bakery -15.744515 -47.914302\n",
              "2      Praça 108 Noroeste                 Plaza -15.751197 -47.910191\n",
              "3                Academia  Gym / Fitness Center -15.751007 -47.910370\n",
              "4           Norusca Arena          Soccer Field -15.752972 -47.909631\n",
              "5   Academia Via Prestige  Gym / Fitness Center -15.753208 -47.909248\n",
              "6  Fitness Real Evolution  Gym / Fitness Center -15.747930 -47.910376\n",
              "7        Academia Fitness        Gymnastics Gym -15.744920 -47.912181"
            ]
          },
          "metadata": {
            "tags": []
          },
          "execution_count": 66
        }
      ]
    },
    {
      "cell_type": "code",
      "metadata": {
        "colab_type": "code",
        "id": "Fa0-gXP6aN79",
        "colab": {}
      },
      "source": [
        ""
      ],
      "execution_count": 0,
      "outputs": []
    },
    {
      "cell_type": "markdown",
      "metadata": {
        "colab_type": "text",
        "id": "tHv6R_NtaN7_"
      },
      "source": [
        "## **Map of Brasilia with venues near the target place, SQNW 307**"
      ]
    },
    {
      "cell_type": "code",
      "metadata": {
        "colab_type": "code",
        "outputId": "670ff994-cd4d-431a-949c-6c2c99891b68",
        "id": "ttK4WA9aaN7_",
        "colab": {
          "base_uri": "https://localhost:8080/",
          "height": 1000
        }
      },
      "source": [
        "# create map of Brasilia  using latitude and longitude values\n",
        "map_sg = folium.Map(location=[latitude, longitude], zoom_start=20)\n",
        "\n",
        "# add markers to map\n",
        "for lat, lng, label in zip(SGnearby_venues['lat'], SGnearby_venues['lng'], SGnearby_venues['name']):\n",
        "    label = folium.Popup(label, parse_html=True)\n",
        "    folium.RegularPolygonMarker(\n",
        "        [lat, lng],\n",
        "        number_of_sides=4,\n",
        "        radius=10,\n",
        "        popup=label,\n",
        "        color='blue',\n",
        "        fill_color='#0f0f0f',\n",
        "        fill_opacity=0.7,\n",
        "    ).add_to(map_sg)  \n",
        "    \n",
        "map_sg\n"
      ],
      "execution_count": 67,
      "outputs": [
        {
          "output_type": "execute_result",
          "data": {
            "text/html": [
              "<div style=\"width:100%;\"><div style=\"position:relative;width:100%;height:0;padding-bottom:60%;\"><iframe src=\"about:blank\" style=\"position:absolute;width:100%;height:100%;left:0;top:0;border:none !important;\" data-html=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 onload=\"this.contentDocument.open();this.contentDocument.write(atob(this.getAttribute('data-html')));this.contentDocument.close();\" allowfullscreen webkitallowfullscreen mozallowfullscreen></iframe></div></div>"
            ],
            "text/plain": [
              "<folium.folium.Map at 0x7f239b40a6d8>"
            ]
          },
          "metadata": {
            "tags": []
          },
          "execution_count": 67
        }
      ]
    },
    {
      "cell_type": "code",
      "metadata": {
        "id": "RM-BHD4BiRS6",
        "colab_type": "code",
        "colab": {}
      },
      "source": [
        ""
      ],
      "execution_count": 0,
      "outputs": []
    },
    {
      "cell_type": "code",
      "metadata": {
        "id": "C8Jt3Rt6i0lS",
        "colab_type": "code",
        "colab": {}
      },
      "source": [
        ""
      ],
      "execution_count": 0,
      "outputs": []
    },
    {
      "cell_type": "code",
      "metadata": {
        "id": "V1Aywg2Bi0ra",
        "colab_type": "code",
        "colab": {}
      },
      "source": [
        ""
      ],
      "execution_count": 0,
      "outputs": []
    },
    {
      "cell_type": "code",
      "metadata": {
        "id": "H3MBfbvRi0qK",
        "colab_type": "code",
        "colab": {}
      },
      "source": [
        ""
      ],
      "execution_count": 0,
      "outputs": []
    },
    {
      "cell_type": "code",
      "metadata": {
        "id": "LIR5ppOzi0pA",
        "colab_type": "code",
        "colab": {}
      },
      "source": [
        ""
      ],
      "execution_count": 0,
      "outputs": []
    }
  ]
}