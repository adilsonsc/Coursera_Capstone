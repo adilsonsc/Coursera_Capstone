{
  "nbformat": 4,
  "nbformat_minor": 0,
  "metadata": {
    "colab": {
      "name": "Capstone Prject week 1.ipynb",
      "provenance": [],
      "authorship_tag": "ABX9TyOgSw+h2mc0GHVqvrhGyo0v",
      "include_colab_link": true
    },
    "kernelspec": {
      "name": "python3",
      "display_name": "Python 3"
    }
  },
  "cells": [
    {
      "cell_type": "markdown",
      "metadata": {
        "id": "view-in-github",
        "colab_type": "text"
      },
      "source": [
        "<a href=\"https://colab.research.google.com/github/adilsonsc/Coursera_Capstone/blob/master/Capstone_Prject_week_1.ipynb\" target=\"_parent\"><img src=\"https://colab.research.google.com/assets/colab-badge.svg\" alt=\"Open In Colab\"/></a>"
      ]
    },
    {
      "cell_type": "markdown",
      "metadata": {
        "id": "nTiysBKxvN8u",
        "colab_type": "text"
      },
      "source": [
        "## **Coursera Capstone Project - The Battle of Neighbohoods - Week 1**\n"
      ]
    },
    {
      "cell_type": "markdown",
      "metadata": {
        "id": "WH8pePE8v8jf",
        "colab_type": "text"
      },
      "source": [
        "## **Description of the problem and a discussion of the background**"
      ]
    },
    {
      "cell_type": "markdown",
      "metadata": {
        "id": "WuZb3CIDwOPo",
        "colab_type": "text"
      },
      "source": [
        "I currently live in Brasilia, Brazil in a very good neighborhood where I can easily find almost everything I need like restaurants, drugstores, supermarket and so one. I was offered a I job in a new location in town (SQNW 307), but I was required to move to this new neighborhood as prerequisite to get the job.\n",
        "\n",
        "What I need to know is if the new neighborhod is at least equivalent to my present one, in order to evaluate if the improvement in wage would going to be worth and witn this make my decision about take or not the job offer.\n",
        "\n",
        "\n",
        "## **Business Problem:**\n",
        "\n",
        "The challenge is to compare the two neighborhood in Brasilia downtown to know if it this worth im my case to change jobs.\n",
        "\n",
        "The data required to resolve this challenge is available in Foursquare website, get by API technology.\n",
        "\n",
        "Interested Audience\n",
        "This case is also applicable for anyone interested in exploring starting or locating a new business in any city.\n",
        "\n"
      ]
    },
    {
      "cell_type": "markdown",
      "metadata": {
        "id": "hFEe4W45WUnJ",
        "colab_type": "text"
      },
      "source": [
        "## **Data to be used to face the problem**"
      ]
    },
    {
      "cell_type": "markdown",
      "metadata": {
        "id": "BpLR8gnrWhyM",
        "colab_type": "text"
      },
      "source": [
        "In order to aproach the problem I intend to use Foursquare data about venues near to my current adress, like drugstores, supermarket, and then compare this data with the same analysis on the new location.\n",
        "\n"
      ]
    },
    {
      "cell_type": "code",
      "metadata": {
        "id": "5DqOGrU4YfXc",
        "colab_type": "code",
        "colab": {}
      },
      "source": [
        ""
      ],
      "execution_count": 0,
      "outputs": []
    }
  ]
}